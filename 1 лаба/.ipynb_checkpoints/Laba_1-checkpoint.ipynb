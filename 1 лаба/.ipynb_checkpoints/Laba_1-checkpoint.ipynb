{
 "cells": [
  {
   "cell_type": "markdown",
   "metadata": {},
   "source": [
    "# Лабораторная работа 1"
   ]
  },
  {
   "cell_type": "code",
   "execution_count": 3,
   "metadata": {},
   "outputs": [],
   "source": [
    "import pandas as pd\n",
    "import numpy as np\n",
    "import matplotlib.pyplot as plt\n",
    "from collections import Counter\n",
    "import matplotlib.ticker as ticker"
   ]
  },
  {
   "cell_type": "code",
   "execution_count": 4,
   "metadata": {},
   "outputs": [
    {
     "data": {
      "text/html": [
       "<div>\n",
       "<style scoped>\n",
       "    .dataframe tbody tr th:only-of-type {\n",
       "        vertical-align: middle;\n",
       "    }\n",
       "\n",
       "    .dataframe tbody tr th {\n",
       "        vertical-align: top;\n",
       "    }\n",
       "\n",
       "    .dataframe thead th {\n",
       "        text-align: right;\n",
       "    }\n",
       "</style>\n",
       "<table border=\"1\" class=\"dataframe\">\n",
       "  <thead>\n",
       "    <tr style=\"text-align: right;\">\n",
       "      <th></th>\n",
       "      <th>id</th>\n",
       "      <th>page</th>\n",
       "      <th>data</th>\n",
       "    </tr>\n",
       "  </thead>\n",
       "  <tbody>\n",
       "    <tr>\n",
       "      <th>0</th>\n",
       "      <td>57529</td>\n",
       "      <td>rooms.homework-showcase</td>\n",
       "      <td>2017-03-01 00:00:07.710000</td>\n",
       "    </tr>\n",
       "    <tr>\n",
       "      <th>1</th>\n",
       "      <td>57529</td>\n",
       "      <td>rooms.view.step.content</td>\n",
       "      <td>2017-03-01 00:00:10.275000</td>\n",
       "    </tr>\n",
       "    <tr>\n",
       "      <th>2</th>\n",
       "      <td>57529</td>\n",
       "      <td>rooms.view.step.content</td>\n",
       "      <td>2017-03-01 00:00:10.436000</td>\n",
       "    </tr>\n",
       "    <tr>\n",
       "      <th>3</th>\n",
       "      <td>168671</td>\n",
       "      <td>rooms.view.step.content</td>\n",
       "      <td>2017-03-01 00:00:12.035000</td>\n",
       "    </tr>\n",
       "    <tr>\n",
       "      <th>4</th>\n",
       "      <td>168671</td>\n",
       "      <td>rooms.view.step.content</td>\n",
       "      <td>2017-03-01 00:00:50.632000</td>\n",
       "    </tr>\n",
       "  </tbody>\n",
       "</table>\n",
       "</div>"
      ],
      "text/plain": [
       "       id                     page                        data\n",
       "0   57529  rooms.homework-showcase  2017-03-01 00:00:07.710000\n",
       "1   57529  rooms.view.step.content  2017-03-01 00:00:10.275000\n",
       "2   57529  rooms.view.step.content  2017-03-01 00:00:10.436000\n",
       "3  168671  rooms.view.step.content  2017-03-01 00:00:12.035000\n",
       "4  168671  rooms.view.step.content  2017-03-01 00:00:50.632000"
      ]
     },
     "execution_count": 4,
     "metadata": {},
     "output_type": "execute_result"
    }
   ],
   "source": [
    "test_data = pd.read_csv('vimbox_pages.csv', names = ['id', 'page', 'data'])\n",
    "test_data.head()"
   ]
  },
  {
   "cell_type": "markdown",
   "metadata": {},
   "source": [
    "Исходная таблица \"vimbox_pages.csv\" со строками  \n",
    "* <идентификатор-пользователя>,\n",
    "* <страница>,\n",
    "* <дата-время посещения>  \n",
    " \n",
    "преобразовывается в таблицу \"laba_1.csv\" \n",
    "* <идентификатор-пользователя>,\n",
    "* <дата-время начала сессии>,\n",
    "* <дата-время окончания сессии>.  \n",
    "\n",
    "с помощью SQL запроса \"laba_1.sql\""
   ]
  },
  {
   "cell_type": "code",
   "execution_count": 5,
   "metadata": {},
   "outputs": [],
   "source": [
    "data = pd.read_csv('laba_1.csv')\n",
    "data.start_session = pd.to_datetime(data['start_session'])\n",
    "data.end_session = pd.to_datetime(data['end_session'])"
   ]
  },
  {
   "cell_type": "code",
   "execution_count": 6,
   "metadata": {},
   "outputs": [
    {
     "data": {
      "text/html": [
       "<div>\n",
       "<style scoped>\n",
       "    .dataframe tbody tr th:only-of-type {\n",
       "        vertical-align: middle;\n",
       "    }\n",
       "\n",
       "    .dataframe tbody tr th {\n",
       "        vertical-align: top;\n",
       "    }\n",
       "\n",
       "    .dataframe thead th {\n",
       "        text-align: right;\n",
       "    }\n",
       "</style>\n",
       "<table border=\"1\" class=\"dataframe\">\n",
       "  <thead>\n",
       "    <tr style=\"text-align: right;\">\n",
       "      <th></th>\n",
       "      <th>id</th>\n",
       "      <th>start_session</th>\n",
       "      <th>end_session</th>\n",
       "    </tr>\n",
       "  </thead>\n",
       "  <tbody>\n",
       "    <tr>\n",
       "      <th>0</th>\n",
       "      <td>2231</td>\n",
       "      <td>2017-03-01 05:38:50.983</td>\n",
       "      <td>2017-03-01 07:01:20.771</td>\n",
       "    </tr>\n",
       "    <tr>\n",
       "      <th>1</th>\n",
       "      <td>3301</td>\n",
       "      <td>2017-03-01 15:28:55.189</td>\n",
       "      <td>2017-03-01 17:53:59.630</td>\n",
       "    </tr>\n",
       "    <tr>\n",
       "      <th>2</th>\n",
       "      <td>3339</td>\n",
       "      <td>2017-03-01 16:01:40.039</td>\n",
       "      <td>2017-03-01 17:50:29.813</td>\n",
       "    </tr>\n",
       "    <tr>\n",
       "      <th>3</th>\n",
       "      <td>5487</td>\n",
       "      <td>2017-03-01 15:13:55.623</td>\n",
       "      <td>2017-03-01 16:57:26.575</td>\n",
       "    </tr>\n",
       "    <tr>\n",
       "      <th>4</th>\n",
       "      <td>6127</td>\n",
       "      <td>2017-03-01 18:15:02.449</td>\n",
       "      <td>2017-03-01 19:54:56.895</td>\n",
       "    </tr>\n",
       "  </tbody>\n",
       "</table>\n",
       "</div>"
      ],
      "text/plain": [
       "     id           start_session             end_session\n",
       "0  2231 2017-03-01 05:38:50.983 2017-03-01 07:01:20.771\n",
       "1  3301 2017-03-01 15:28:55.189 2017-03-01 17:53:59.630\n",
       "2  3339 2017-03-01 16:01:40.039 2017-03-01 17:50:29.813\n",
       "3  5487 2017-03-01 15:13:55.623 2017-03-01 16:57:26.575\n",
       "4  6127 2017-03-01 18:15:02.449 2017-03-01 19:54:56.895"
      ]
     },
     "execution_count": 6,
     "metadata": {},
     "output_type": "execute_result"
    }
   ],
   "source": [
    "data.head()"
   ]
  },
  {
   "cell_type": "code",
   "execution_count": 7,
   "metadata": {},
   "outputs": [],
   "source": [
    "duration = data.end_session - data.start_session\n",
    "hours = duration / np.timedelta64(1, 'h')"
   ]
  },
  {
   "cell_type": "code",
   "execution_count": 8,
   "metadata": {},
   "outputs": [
    {
     "data": {
      "image/png": "[encoded data removed]",
      "text/plain": [
       "<Figure size 864x432 with 1 Axes>"
      ]
     },
     "metadata": {},
     "output_type": "display_data"
    }
   ],
   "source": [
    "fig, ax = plt.subplots()\n",
    "\n",
    "ax.scatter(data.id, hours, alpha = 0.7)\n",
    "\n",
    "ax.set_facecolor('seashell')\n",
    "fig.set_facecolor('floralwhite')\n",
    "fig.set_figwidth(12)    \n",
    "fig.set_figheight(6) \n",
    "ax.set_xlabel('id сессий')\n",
    "ax.set_ylabel('время (ч)')\n",
    "ax.set_title('Длина сессий')\n",
    "\n",
    "plt.show()"
   ]
  },
  {
   "cell_type": "markdown",
   "metadata": {},
   "source": [
    "### 1) В основном сессии длятся около 1-2 часов "
   ]
  },
  {
   "cell_type": "code",
   "execution_count": 31,
   "metadata": {},
   "outputs": [],
   "source": [
    "start = data.start_session.dt.hour\n",
    "end = data.end_session.dt.hour\n",
    "times = []\n",
    "for i in range(len(data)):\n",
    "    times.append(list(range(start[i], end[i]+1)))\n",
    "times = [a for b in times for a in b]\n",
    "cnt = dict(Counter(times))"
   ]
  },
  {
   "cell_type": "code",
   "execution_count": 34,
   "metadata": {},
   "outputs": [
    {
     "data": {
      "image/png": "[encoded data removed]",
      "text/plain": [
       "<Figure size 864x432 with 1 Axes>"
      ]
     },
     "metadata": {},
     "output_type": "display_data"
    }
   ],
   "source": [
    "x = cnt.keys()\n",
    "y = cnt.values()\n",
    "\n",
    "fig, ax = plt.subplots()\n",
    "\n",
    "ax.bar(x, y)\n",
    "ax.xaxis.set_major_locator(ticker.MultipleLocator(1))\n",
    "\n",
    "ax.set_facecolor('seashell')\n",
    "fig.set_facecolor('floralwhite')\n",
    "fig.set_figwidth(12)  \n",
    "fig.set_figheight(6)   \n",
    "ax.set_xlabel('часы')\n",
    "ax.set_ylabel('посещения')\n",
    "ax.set_title('Зависимость числа сессий от времени суток')\n",
    "plt.xticks(range(24))\n",
    "\n",
    "plt.show()"
   ]
  },
  {
   "cell_type": "markdown",
   "metadata": {},
   "source": [
    "### 2) Высокий спрос наблюдается с утра и к вечеру, пик сессий приходится на 15-18 часов"
   ]
  },
  {
   "cell_type": "markdown",
   "metadata": {},
   "source": [
    "### 3) Необычные сессии - длительностью около 14 часов и сессии с ночной активностью"
   ]
  },
  {
   "cell_type": "code",
   "execution_count": null,
   "metadata": {},
   "outputs": [],
   "source": []
  }
 ],
 "metadata": {
  "kernelspec": {
   "display_name": "Python 3 (ipykernel)",
   "language": "python",
   "name": "python3"
  },
  "language_info": {
   "codemirror_mode": {
    "name": "ipython",
    "version": 3
   },
   "file_extension": ".py",
   "mimetype": "text/x-python",
   "name": "python",
   "nbconvert_exporter": "python",
   "pygments_lexer": "ipython3",
   "version": "3.8.12"
  }
 },
 "nbformat": 4,
 "nbformat_minor": 4
}
